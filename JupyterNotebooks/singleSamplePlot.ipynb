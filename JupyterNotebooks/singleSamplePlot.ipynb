{
 "cells": [
  {
   "cell_type": "code",
   "execution_count": null,
   "metadata": {
    "collapsed": true
   },
   "outputs": [],
   "source": [
    "\n",
    "options(stringsAsFactors=FALSE) # for compatibile code between us\n",
    "\n",
    "library(tidyverse)\n",
    "library(gridExtra) # easy for putting graphs onto the same page (just use ggarrange(graph1, graph2, ncol = # of display\n",
    "# columns, nrow = #row))\n",
    "\n",
    "\n",
    "liamsWorkingDir <- \"~/Documents/UCSC/Junior/Treehouse/Treehouse_OutlierRNASeq/comp4.3_tert8.ckcc.outlier_results\"\n",
    "setwd(\n",
    "  liamsWorkingDir\n",
    ")\n",
    "up_outlier_files=list.files(, \"outlier_results_\")\n",
    "\n",
    "outlierResults<-lapply(up_outlier_files, function(x) {\n",
    "  read_tsv(x, col_types=cols()) %>%\n",
    "    add_column(sampleID=gsub(\"outlier_results_\", \"\", x))\n",
    "}) \t%>%\n",
    "  bind_rows()\n",
    "\n",
    "singleSample <- outlierResults %>%\n",
    "  filter(sampleID == \"TH01_0054_S01\")\n",
    "\n",
    "ggplot(singleSample, aes(sample)) + \n",
    "  geom_histogram(binwidth = 0.1, aes(y = ..count..)) + \n",
    "  ggtitle(\"Histogram of Sample TH01_0054_S01; binwidth = 0.1\") +\n",
    "  scale_x_continuous(name = \"Log2(TPM+1) value\") +\n",
    "  scale_y_continuous(name = \"Count (thousands)\",\n",
    "                       labels = function(y) y / 1000)\n"
   ]
  }
 ],
 "metadata": {
  "kernelspec": {
   "display_name": "R",
   "language": "R",
   "name": "ir"
  },
  "language_info": {
   "codemirror_mode": "r",
   "file_extension": ".r",
   "mimetype": "text/x-r-source",
   "name": "R",
   "pygments_lexer": "r",
   "version": "3.3.2"
  }
 },
 "nbformat": 4,
 "nbformat_minor": 2
}
