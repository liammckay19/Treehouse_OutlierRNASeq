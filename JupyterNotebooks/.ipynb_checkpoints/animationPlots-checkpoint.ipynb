{
 "cells": [
  {
   "cell_type": "code",
   "execution_count": 6,
   "metadata": {
    "collapsed": false,
    "deletable": true,
    "editable": true,
    "scrolled": true
   },
   "outputs": [],
   "source": [
    "\n",
    "options(stringsAsFactors=FALSE) # for compatibile code between us\n",
    "\n",
    "library(tidyverse)\n",
    "\n",
    "\n",
    "setwd(\"/home/jovyan/work/Treehouse_OutlierRNASeq\")\n",
    "\n",
    "samples146 <- c(\"TH01_0053_S01\",\"TH03_0024_S01\",\"TH01_0054_S01\",\"TH03_0025_S02\",\"TH01_0055_S01\",\"TH03_0027_S01\",\"TH01_0061_S01\",\"TH03_0029_S01\",\"TH01_0062_S01\",\"TH03_0038_S01\",\"TH01_0063_S01\",\"TH03_0103_S01\",\"TH01_0064_S01\",\"TH03_0104_S01\",\"TH01_0069_S01\",\"TH03_0105_S01\",\"TH01_0120_S01\",\"TH03_0106_S01\",\"TH01_0121_S01\",\"TH03_0107_S01\",\"TH01_0122_S01\",\"TH03_0112_S01\",\"TH01_0123_S01\",\"TH03_0112_S02\",\"TH01_0124_S01\",\"TH03_0113_S01\",\"TH01_0125_S01\",\"TH03_0113_S02\",\"TH01_0126_S01\",\"TH03_0114_S01\",\"TH01_0127_S01\",\"TH03_0115_S01\",\"TH01_0128_S01\",\"TH03_0116_S01\",\"TH01_0129_S01\",\"TH03_0117_S01\",\"TH01_0130_S01\",\"TH03_0118_S01\",\"TH01_0131_S01\",\"TH03_0139_S01\",\"TH01_0132_S01\",\"TH03_0140_S01\",\"TH01_0133_S01\",\"TH03_0141_S01\",\"TH01_0134_S01\",\"TH03_0143_S01\",\"TH02_0074_S01\",\"TH03_0143_S02\",\"TH02_0075_S01\",\"TH03_0144_S01\",\"TH02_0076_S01\",\"TH03_0146_S01\",\"TH02_0077_S01\",\"TH03_0148_S01\",\"TH02_0078_S01\",\"TH03_0149_S01\",\"TH02_0079_S01\",\"TH03_0156_S01\",\"TH02_0080_S01\",\"TH03_0157_S01\",\"TH02_0081_S01\",\"TH03_0159_S01\",\"TH02_0082_S01\",\"TH03_0159_S02\",\"TH02_0083_S01\",\"TH03_0160_S01\",\"TH02_0084_S01\",\"TH03_0285_S01\",\"TH02_0085_S01\",\"TH03_0286_S01\",\"TH02_0086_S01\",\"TH03_0287_S01\",\"TH02_0087_S01\",\"TH03_0288_S01\",\"TH02_0087_S02\",\"TH03_0289_S01\",\"TH02_0088_S01\",\"TH03_0290_S01\",\"TH02_0089_S01\",\"TH03_0291_S01\",\"TH02_0090_S01\",\"TH03_0296_S01\",\"TH02_0091_S01\",\"TH03_0296_S02\",\"TH02_0092_S01\",\"TH06_0284_S01\",\"TH02_0093_S01\",\"TH06_0610_S01\",\"TH02_0094_S01\",\"TH06_0611_S01\",\"TH02_0095_S01\",\"TH06_0612_S01\",\"TH02_0096_S01\",\"TH06_0613_S01\",\"TH03_0003_S01\",\"TH06_0613_S02\",\"TH03_0003_S03\",\"TH06_0615_S01\",\"TH03_0003_S04\",\"TH06_0616_S01\",\"TH03_0004_S02\",\"TH06_0617_S01\",\"TH03_0004_S03\",\"TH06_0618_S01\",\"TH03_0004_S04\",\"TH06_0619_S01\",\"TH03_0005_S01\",\"TH06_0620_S01\",\"TH03_0006_S01\",\"TH06_0621_S01\",\"TH03_0006_S03\",\"TH06_0622_S01\",\"TH03_0008_S01\",\"TH06_0623_S01\",\"TH03_0010_S01\",\"TH06_0624_S01\",\"TH03_0010_S02\",\"TH06_0625_S01\",\"TH03_0011_S01\",\"TH06_0626_S01\",\"TH03_0012_S01\",\"TH06_0627_S01\",\"TH03_0012_S02\",\"TH06_0628_S01\",\"TH03_0013_S01\",\"TH06_0629_S01\",\"TH03_0013_S02\",\"TH06_0630_S01\",\"TH03_0014_S01\",\"TH06_0631_S01\",\"TH03_0015_S01\",\"TH06_0632_S01\",\"TH03_0016_S01\",\"TH06_0633_S01\",\"TH03_0017_S01\",\"TH06_0634_S01\",\"TH03_0018_S01\",\"TH06_0645_S01\",\"TH03_0018_S02\",\"TH06_0646_S01\",\"TH03_0019_S01\",\"TH06_0647_S01\",\"TH03_0020_S01\",\"TH06_0648_S01\",\"TH03_0022_S01\",\"TH06_0649_S01\")\n",
    "\n",
    "locationList <- c()\n",
    "\n"
   ]
  },
  {
   "cell_type": "code",
   "execution_count": 4,
   "metadata": {
    "collapsed": false,
    "deletable": true,
    "editable": true
   },
   "outputs": [],
   "source": [
    "tables<-c()\n",
    "a <- tibble()\n",
    "for (sampleName in samples146){\n",
    "    location <- paste0(\"/data/archive/downstream/\",sampleName,\"/tertiary/treehouse-8.0.1_comp-v5/outlier_results_\",sampleName)\n",
    "    cur<-read_tsv(location, col_types=cols()) \n",
    "    cur$sampleID<- rep(sampleName,length(cur$Gene))\n",
    "    cur <- cur %>% select(Gene, sample, sampleID)\n",
    "    a <- rbind(a,cur)\n",
    "}\n",
    "\n"
   ]
  },
  {
   "cell_type": "code",
   "execution_count": 5,
   "metadata": {
    "collapsed": false,
    "deletable": true,
    "editable": true
   },
   "outputs": [],
   "source": [
    "outlierResults <- a"
   ]
  },
  {
   "cell_type": "code",
   "execution_count": 39,
   "metadata": {
    "collapsed": false,
    "deletable": true,
    "editable": true
   },
   "outputs": [
    {
     "ename": "ERROR",
     "evalue": "Error in eval(expr, envir, enclos): object 'rawTPMDf' not found\n",
     "output_type": "error",
     "traceback": [
      "Error in eval(expr, envir, enclos): object 'rawTPMDf' not found\nTraceback:\n",
      "1. rawTPMDf %>% group_by(sampleID) %>% summarize(p95q = quantile(TPM, \n .     0.95), p95e_c = quantile(expected_count, 0.95)) %>% add_column(numberOfExpressed = dfNotZeros$n)",
      "2. eval(lhs, parent, parent)",
      "3. eval(expr, envir, enclos)"
     ]
    }
   ],
   "source": [
    "percentileOfEachTPMSampleDf <- rawTPMDf %>%\n",
    "\tgroup_by(sampleID) %>% \n",
    "\tsummarize(p95q = quantile(TPM, 0.95), p95e_c = quantile(expected_count, 0.95)) %>%\n",
    "\tadd_column(numberOfExpressed=dfNotZeros$n)\n",
    "\n",
    "\n",
    "worstSamplesNames <- percentileOfEachSampleDf %>%\n",
    "  select(p95, sampleID) %>%\n",
    "  filter(p95 <= quantile(p95, c(0.15))) %>%\n",
    "  mutate(names = gsub(\"T\", \"outlier_results_T\",sampleID))\n",
    "\n",
    "splitDF <- split(worstSamples, worstSamples$sampleID)\n",
    "plotTest<-data.frame(splitDF[1])\n",
    "ggplot(plotTest, aes(sample)) + \n",
    "  geom_histogram(alpha = 0.5,  position = 'identity', aes(y=..density..)) + \n",
    "  ggtitle(\"95th Percentiles of All Samples and the worst sample\") +\n",
    "  geom_density(alpha = 0, position = 'identity', aes(y=..density..))\n",
    "\n",
    "\n",
    "for (x in splitDF) {\n",
    "  plotdfSample <- data.frame(splitDF[x])\n",
    "  p<-ggplot(plotdfSample, aes(sample)) + \n",
    "    geom_histogram() + \n",
    "    geom_density(alpha = 0, position = 'identity', aes(y=..density..))\n",
    "}\n",
    "\n",
    "\n",
    "\n",
    "\n",
    "\n",
    "ggplot()"
   ]
  },
  {
   "cell_type": "markdown",
   "metadata": {},
   "source": [
    "\n",
    "# saves plots for all sample files lim(40,000) y axis\n"
   ]
  },
  {
   "cell_type": "code",
   "execution_count": null,
   "metadata": {
    "collapsed": true
   },
   "outputs": [],
   "source": [
    "# function for creating file name with leading zeros\n",
    "# makes it easier to process them sequentially\n",
    "rename <- function(x){\n",
    "  if (x < 10) {\n",
    "    return(name <- paste('000',i,'plot.png',sep=''))\n",
    "  }\n",
    "  if (x < 100 && i >= 10) {\n",
    "    return(name <- paste('00',i,'plot.png', sep=''))\n",
    "  }\n",
    "  if (x >= 100) {\n",
    "    return(name <- paste('0', i,'plot.png', sep=''))\n",
    "  }\n",
    "}\n",
    "\n",
    "index<-'zeroBar-p95'\n",
    "batchFolder <- paste0('BatchAnimatePlot',index)\n",
    "setwd(paste0\"/Treehouse_OutlierRNASeq\")\n",
    "\n",
    "system('ls')\n",
    "system(paste0('mkdir ',batchFolder))\n",
    "nfp<-outlierResults %>% group_by(sampleID) %>% summarize(nfp=quantile(sample, 0.95)) %>% arrange(desc(nfp))\n",
    "\n",
    "# fifteenth=quantile(nfp$nfp, 0.15)\n",
    "# worst15pctSamples<-nfp %>% filter(nfp<fifteenth)\n",
    "i<-0\n",
    "thisSample <- NULL\n",
    "for (thisSample in nfp$sampleID){\n",
    "  i<-i+1\n",
    "  print(thisSample)\n",
    "  df <- outlierResults %>% filter(sampleID == thisSample) \n",
    "  nineFivePercentile <- nfp[[2]][i]\n",
    "  p <- ggplot(df) +\n",
    "    geom_histogram(aes(sample), binwidth = 0.1) +\n",
    "    ggtitle(thisSample) +\n",
    "    scale_x_continuous(limits = c(-1, 20)) +\n",
    "    scale_y_continuous(limits = c(0, 40000)) +\n",
    "    ylab('Count')+xlab('Log2(TPM+1) Values | Binwidth=0.1') +\n",
    "    geom_vline(xintercept = nineFivePercentile) +\n",
    "    annotate(\"text\", x = nineFivePercentile+2, y = 20000, label = paste0(\"p95=\",round(nineFivePercentile,1)))\n",
    "  \n",
    "  ggsave(rename(i), plot = p, \"png\", paste0(getwd(),'/',batchFolder))\n",
    "  \n",
    "}\n",
    "setwd(paste0(getwd(),'/',batchFolder))\n",
    "my_command <- 'convert *.png -delay .2 -loop 0 animation.gif'\n",
    "system(my_command)\n"
   ]
  },
  {
   "cell_type": "markdown",
   "metadata": {},
   "source": [
    "# saves plots for all sample files lim(2,500) y axis\n"
   ]
  },
  {
   "cell_type": "code",
   "execution_count": null,
   "metadata": {
    "collapsed": true
   },
   "outputs": [],
   "source": [
    "# function for creating file name with leading zeros\n",
    "# makes it easier to process them sequentially\n",
    "rename <- function(x){\n",
    "  if (x < 10) {\n",
    "    return(name <- paste('000',i,'plot.png',sep=''))\n",
    "  }\n",
    "  if (x < 100 && i >= 10) {\n",
    "    return(name <- paste('00',i,'plot.png', sep=''))\n",
    "  }\n",
    "  if (x >= 100) {\n",
    "    return(name <- paste('0', i,'plot.png', sep=''))\n",
    "  }\n",
    "}\n",
    "\n",
    "index<-'totalCohort-p95-zoomed'\n",
    "batchFolder <- paste0('BatchAnimatePlot',index)\n",
    "setwd(\"~/Documents/UCSC/Junior/Treehouse/Treehouse_OutlierRNASeq\")\n",
    "\n",
    "system('ls')\n",
    "system(paste0('mkdir ',batchFolder))\n",
    "nfp<-outlierResults %>% group_by(sampleID) %>% summarize(nfp=quantile(sample, 0.95)) %>% arrange(desc(nfp))\n",
    "\n",
    "# fifteenth=quantile(nfp$nfp, 0.15)\n",
    "# worst15pctSamples<-nfp %>% filter(nfp<fifteenth)\n",
    "i<-0\n",
    "thisSample <- NULL\n",
    "for (thisSample in nfp$sampleID){\n",
    "  i<-i+1\n",
    "  print(thisSample)\n",
    "  df <- outlierResults %>% filter(sampleID == thisSample) \n",
    "  nineFivePercentile <- nfp[[2]][i]\n",
    "  p <- ggplot(df) +\n",
    "    geom_histogram(aes(sample), binwidth = 0.1) +\n",
    "    ggtitle(thisSample) +\n",
    "    scale_x_continuous(limits = c(-1, 20)) +\n",
    "    scale_y_continuous(limits = c(0, 2500)) +\n",
    "    ylab('Count')+xlab('Log2(TPM+1) Values | Binwidth=0.1') +\n",
    "    geom_vline(xintercept = nineFivePercentile) +\n",
    "    annotate(\"text\", x = nineFivePercentile+2, y = 20000, label = paste0(\"p95=\",round(nineFivePercentile,1)))\n",
    "  \n",
    "  ggsave(rename(i), plot = p, \"png\", paste0(getwd(),'/',batchFolder))\n",
    "  \n",
    "}\n",
    "setwd(paste0(getwd(),'/',batchFolder))\n",
    "my_command <- 'convert *.png -delay .2 -loop 0 animation.gif'\n",
    "system(my_command)"
   ]
  },
  {
   "cell_type": "markdown",
   "metadata": {},
   "source": [
    "# saves and animates plots for all polyA\n"
   ]
  },
  {
   "cell_type": "code",
   "execution_count": null,
   "metadata": {
    "collapsed": true
   },
   "outputs": [],
   "source": [
    "\n",
    "# function for creating file name with leading zeros\n",
    "# makes it easier to process them sequentially\n",
    "rename <- function(x){\n",
    "  if (x < 10) {\n",
    "    return(name <- paste('000',i,'plot.png',sep=''))\n",
    "  }\n",
    "  if (x < 100 && i >= 10) {\n",
    "    return(name <- paste('00',i,'plot.png', sep=''))\n",
    "  }\n",
    "  if (x >= 100) {\n",
    "    return(name <- paste('0', i,'plot.png', sep=''))\n",
    "  }\n",
    "}\n",
    "\n",
    "index<-'PolyA'\n",
    "batchFolder <- paste0('BatchAnimatePlot',index)\n",
    "setwd(\"~/Documents/UCSC/Junior/Treehouse/Treehouse_OutlierRNASeq\")\n",
    "\n",
    "system('ls')\n",
    "system(paste0('mkdir ',batchFolder))\n",
    "p95df<-outlierResults %>% group_by(sampleID) %>% summarize(nfp=quantile(sample, 0.95)) %>% arrange(desc(nfp))\n",
    "\n",
    "p95df$Method = grepl(\"TH01\", p95df$sampleID)\n",
    "p95df$Method <- gsub(\"TRUE\", \"Ribo-depletion(TH01)\",p95df$Method)\n",
    "p95df$Method <- gsub(\"FALSE\", \"PolyA-selection(Not TH01)\",p95df$Method)\n",
    "riboDepleted <- filter(p95df, Method==\"Ribo-depletion(TH01)\")\n",
    "polyaSelected <- filter(p95df, Method==\"PolyA-selection(Not TH01)\")\n",
    "\n",
    "# fifteenth=quantile(nfp$nfp, 0.15)\n",
    "# worst15pctSamples<-nfp %>% filter(nfp<fifteenth)\n",
    "i<-0\n",
    "thisSample <- NULL\n",
    "for (thisSample in polyaSelected$sampleID){\n",
    "  i<-i+1\n",
    "  print(thisSample)\n",
    "  df <- outlierResults %>% filter(sampleID == thisSample) \n",
    "  nineFivePercentile <- polyaSelected[[2]][i]\n",
    "  p <- ggplot(df) +\n",
    "    geom_histogram(aes(sample), binwidth = 0.1) +\n",
    "    ggtitle(thisSample) +\n",
    "    scale_x_continuous(limits = c(-1, 20)) +\n",
    "    scale_y_continuous(limits = c(0, 2500)) +\n",
    "    ylab('Count')+xlab('Log2(TPM+1) Values | Binwidth=0.1') +\n",
    "    geom_vline(xintercept = nineFivePercentile) +\n",
    "    annotate(\"text\", x = nineFivePercentile+3, y = 1500, label = paste0(\"p95=\",round(nineFivePercentile,1)))\n",
    "  \n",
    "  ggsave(rename(i), plot = p, \"png\", paste0(getwd(),'/',batchFolder))\n",
    "  \n",
    "}\n",
    "setwd(paste0(getwd(),'/',batchFolder))\n",
    "my_command <- 'convert *.png -delay .2 -loop 0 animation.gif'\n",
    "system(my_command)\n"
   ]
  },
  {
   "cell_type": "markdown",
   "metadata": {},
   "source": [
    "# saves and animates plots for all riboD\n"
   ]
  },
  {
   "cell_type": "code",
   "execution_count": null,
   "metadata": {
    "collapsed": true
   },
   "outputs": [],
   "source": [
    "# function for creating file name with leading zeros\n",
    "# makes it easier to process them sequentially\n",
    "rename <- function(x){\n",
    "  if (x < 10) {\n",
    "    return(name <- paste('000',i,'plot.png',sep=''))\n",
    "  }\n",
    "  if (x < 100 && i >= 10) {\n",
    "    return(name <- paste('00',i,'plot.png', sep=''))\n",
    "  }\n",
    "  if (x >= 100) {\n",
    "    return(name <- paste('0', i,'plot.png', sep=''))\n",
    "  }\n",
    "}\n",
    "\n",
    "index<-'RiboD'\n",
    "batchFolder <- paste0('BatchAnimatePlot',index)\n",
    "setwd(\"~/Documents/UCSC/Junior/Treehouse/Treehouse_OutlierRNASeq\")\n",
    "\n",
    "system('ls')\n",
    "system(paste0('mkdir ',batchFolder))\n",
    "p95df<-outlierResults %>% group_by(sampleID) %>% summarize(nfp=quantile(sample, 0.95)) %>% arrange(desc(nfp))\n",
    "\n",
    "p95df$Method = grepl(\"TH01\", p95df$sampleID)\n",
    "p95df$Method <- gsub(\"TRUE\", \"Ribo-depletion(TH01)\",p95df$Method)\n",
    "p95df$Method <- gsub(\"FALSE\", \"PolyA-selection(Not TH01)\",p95df$Method)\n",
    "riboDepleted <- filter(p95df, Method==\"Ribo-depletion(TH01)\")\n",
    "polyaSelected <- filter(p95df, Method==\"PolyA-selection(Not TH01)\")\n",
    "\n",
    "# fifteenth=quantile(nfp$nfp, 0.15)\n",
    "# worst15pctSamples<-nfp %>% filter(nfp<fifteenth)\n",
    "i<-0\n",
    "thisSample <- NULL\n",
    "for (thisSample in riboDepleted$sampleID){\n",
    "  i<-i+1\n",
    "  print(thisSample)\n",
    "  df <- outlierResults %>% filter(sampleID == thisSample) \n",
    "  nineFivePercentile <- riboDepleted[[2]][i]\n",
    "  p <- ggplot(df) +\n",
    "    geom_histogram(aes(sample), binwidth = 0.1) +\n",
    "    ggtitle(thisSample) +\n",
    "    scale_x_continuous(limits = c(-1, 20)) +\n",
    "    scale_y_continuous(limits = c(0, 2500)) +\n",
    "    ylab('Count')+xlab('Log2(TPM+1) Values | Binwidth=0.1') +\n",
    "    geom_vline(xintercept = nineFivePercentile) +\n",
    "    annotate(\"text\", x = nineFivePercentile+3, y = 1500, label = paste0(\"p95=\",round(nineFivePercentile,1)))\n",
    "  \n",
    "  ggsave(rename(i), plot = p, \"png\", paste0(getwd(),'/',batchFolder))\n",
    "  \n",
    "}\n",
    "setwd(paste0(getwd(),'/',batchFolder))\n",
    "my_command <- 'convert *.png -delay .2 -loop 0 animation.gif'\n",
    "system(my_command)\n"
   ]
  },
  {
   "cell_type": "markdown",
   "metadata": {},
   "source": [
    "# saves plots for all sample files on the low end of the 95th percentile\n"
   ]
  },
  {
   "cell_type": "code",
   "execution_count": null,
   "metadata": {
    "collapsed": true
   },
   "outputs": [],
   "source": [
    "nfp<-outlierResults %>% group_by(sampleID) %>% summarize(nfp=quantile(sample, 0.95))\n",
    "\n",
    "fifteenth=quantile(nfp$nfp, 0.15)\n",
    "worst15pctSamples<-nfp %>% filter(nfp<fifteenth)\n",
    "\n",
    "thisSample <- NULL\n",
    "for (thisSample in worst15pctSamples$sampleID){\n",
    "  print(thisSample)\n",
    "  df <- outlierResults %>% filter(sampleID == thisSample) \n",
    "  \n",
    "  p <- ggplot(df) +\n",
    "    geom_histogram(aes(sample), binwidth = 0.1) +\n",
    "    ggtitle(thisSample) +\n",
    "    scale_x_continuous(limits = c(0, 20)) +\n",
    "    scale_y_continuous(limits = c(0, 2500))\n",
    "  \n",
    "  ggsave(paste0(thisSample, \".png\"), plot = p, \"png\", \"~/Documents/UCSC/Junior/Treehouse/OutlierRNAseq_Treehouse_Repo/WorstPercentilePlots/\")\n",
    "  \n",
    "}\n",
    "\n"
   ]
  },
  {
   "cell_type": "markdown",
   "metadata": {},
   "source": [
    "# saves plots for all sample files on the high end of the 95th percentile\n"
   ]
  },
  {
   "cell_type": "code",
   "execution_count": null,
   "metadata": {
    "collapsed": true
   },
   "outputs": [],
   "source": [
    "{\n",
    "  nfp<-outlierResults %>% group_by(sampleID) %>% summarize(p95=quantile(sample, 0.95))\n",
    "\n",
    "  p85=quantile(nfp$p95, 0.85)\n",
    "  best85pctSamples<-nfp %>% filter(p95>p85)\n",
    "\n",
    "  thisSample <- NULL\n",
    "  for (thisSample in best85pctSamples$sampleID){\n",
    "    print(thisSample)\n",
    "    df <- outlierResults %>% filter(sampleID == thisSample) \n",
    "    \n",
    "    p <- ggplot(df) +\n",
    "      geom_histogram(aes(sample), binwidth = 0.1) +\n",
    "      ggtitle(thisSample) +\n",
    "      scale_x_continuous(limits = c(0, 20)) +\n",
    "      scale_y_continuous(limits = c(0, 2500))\n",
    "    \n",
    "    ggsave(paste0(thisSample, \".png\"), plot = p, \"png\", \"~/Documents/UCSC/Junior/Treehouse/OutlierRNAseq_Treehouse_Repo/BestPercentilePlots/\")\n",
    "    \n",
    "  }\n",
    "}\n"
   ]
  },
  {
   "cell_type": "code",
   "execution_count": null,
   "metadata": {
    "collapsed": true,
    "deletable": true,
    "editable": true
   },
   "outputs": [],
   "source": []
  }
 ],
 "metadata": {
  "kernelspec": {
   "display_name": "R",
   "language": "R",
   "name": "ir"
  },
  "language_info": {
   "codemirror_mode": "r",
   "file_extension": ".r",
   "mimetype": "text/x-r-source",
   "name": "R",
   "pygments_lexer": "r",
   "version": "3.3.2"
  }
 },
 "nbformat": 4,
 "nbformat_minor": 2
}
