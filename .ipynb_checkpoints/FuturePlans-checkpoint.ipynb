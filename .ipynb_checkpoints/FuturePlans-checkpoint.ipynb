{
 "cells": [
  {
   "cell_type": "markdown",
   "metadata": {},
   "source": [
    "# Future plans vol 2\n",
    "\n",
    "May 6th \n",
    "Using Matthews notes\n",
    "\n",
    "https://www.sciencedirect.com/science/article/pii/S0888754310001746?via%3Dihub \n",
    "- find what genes are best expressed in polyA and riboD\n",
    "- Are there genes with a high 95th percentile no matter what method? \n",
    "- What genes are more sensitive to each method? \n",
    "    - Are these cancer causing genes?\n",
    "- Are there genes that riboD are better at sequencing that Treehouse cares about?\n",
    "- Are there any known intergenic cancers and are those the ones that RiboD is for detecting? \n",
    "\n",
    "Overall-- is there a pattern in the genes that riboD can sequence and polyA can't?\n",
    "\n",
    "\n",
    "If riboD is good at finding intergenic pathways, then are there cancer causing genes that are commonly triggered by the riboD method's observed regions?\n",
    "\n",
    "\n",
    "rRNA depletion (riboD) captured more unique transcriptome features than polyA.\n",
    "riboD mainly has reads from immature transcripts predominantly from nuclear RNAs \n",
    "PolyA captured more exonic coverage.\n",
    "PolyA is better for clinical setting.\n",
    "\n",
    "## Future paper to comb through:\n",
    "https://www.nature.com/articles/s41598-018-23226-4#Sec8\n"
   ]
  },
  {
   "cell_type": "code",
   "execution_count": null,
   "metadata": {
    "collapsed": true
   },
   "outputs": [],
   "source": []
  }
 ],
 "metadata": {
  "kernelspec": {
   "display_name": "Python 3",
   "language": "python",
   "name": "python3"
  },
  "language_info": {
   "codemirror_mode": {
    "name": "ipython",
    "version": 3
   },
   "file_extension": ".py",
   "mimetype": "text/x-python",
   "name": "python",
   "nbconvert_exporter": "python",
   "pygments_lexer": "ipython3",
   "version": "3.5.2"
  }
 },
 "nbformat": 4,
 "nbformat_minor": 2
}
