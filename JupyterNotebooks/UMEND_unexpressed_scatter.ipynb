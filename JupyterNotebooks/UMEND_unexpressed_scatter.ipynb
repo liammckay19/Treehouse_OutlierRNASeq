{
 "cells": [
  {
   "cell_type": "code",
   "execution_count": null,
   "metadata": {
    "collapsed": true
   },
   "outputs": [],
   "source": [
    "# plot # Expressed genes vs UMEND reads per sample;\n",
    "options(stringsAsFactors = FALSE) # for compatibile code between us\n",
    "\n",
    "library(tidyverse)\n",
    "\n",
    "\n",
    "liamsWorkingDir <-\n",
    "  \"~/Documents/UCSC/Junior/Treehouse/Treehouse_OutlierRNASeq/\"\n",
    "setwd(liamsWorkingDir)\n",
    "\n",
    "umend_file = list.files(, \"ckccSampleUMEND_reads\")\n",
    "\n",
    "umendResults <- lapply(umend_file, function(x) {\n",
    "  read_tsv(x, col_types = cols()) %>%\n",
    "    add_column(sampleID = gsub(\"outlier_results_\", \"\", x))\n",
    "}) \t%>%\n",
    "  bind_rows() %>%\n",
    "  arrange(th_sampleid)\n",
    "\n",
    "\n",
    "# plot # Expressed genes vs UMEND reads per sample;\n",
    "\n",
    "setwd(paste0(liamsWorkingDir, \"comp4.3_tert8.ckcc.outlier_results\"))\n",
    "\n",
    "up_outlier_files = list.files(, \"outlier_results_\")\n",
    "\n",
    "Results <- lapply(up_outlier_files, function(x) {\n",
    "  read_tsv(x, col_types = cols()) %>%\n",
    "    add_column(sampleID = gsub(\"outlier_results_\", \"\", x))\n",
    "}) \t%>%\n",
    "  bind_rows()\n",
    "\n",
    "Results$sample\n",
    "\n",
    "t.test(col1,col2)\n",
    "\n",
    "\n",
    "dfNonZeros <- outlierResults %>%\n",
    "  select(sampleID, sample) %>%\n",
    "  group_by(sampleID) %>%\n",
    "  count(sample == 0) %>%\n",
    "  filter(`sample == 0` == F)\n",
    "\n",
    "\n",
    "umendNonZerosDF <- dfNonZeros %>%\n",
    "  arrange(sampleID) %>%\n",
    "  filter(sampleID %in% umendResults$th_sampleid) %>%\n",
    "  add_column(rawUMEND = umendResults$umendCountRaw, umendID = umendResults$th_sampleid)\n",
    "\n",
    "ggplot(umendNonZerosDF, aes(n/1000, rawUMEND)) + geom_point() +\n",
    "  xlab(\"Thousands of Expressed Genes Per Sample\") + ylab(\"Raw UMEND Count\") +\n",
    "  geom_smooth(method = 'lm', level = 0.95) +\n",
    "  ggtitle(\"Number of Expressed Genes verses UMEND Reads Per Sample\") +\n",
    "  annotate(\"text\",\n",
    "    x = 23.5,\n",
    "    y = 7e+07,\n",
    "    label = paste0(\"correlation: \",round(cor(umendNonZerosDF$rawUMEND,umendNonZerosDF$n),3),\"\\nconfidence = 0.95\"))\n"
   ]
  }
 ],
 "metadata": {
  "kernelspec": {
   "display_name": "R",
   "language": "R",
   "name": "ir"
  },
  "language_info": {
   "codemirror_mode": "r",
   "file_extension": ".r",
   "mimetype": "text/x-r-source",
   "name": "R",
   "pygments_lexer": "r",
   "version": "3.3.2"
  }
 },
 "nbformat": 4,
 "nbformat_minor": 2
}
