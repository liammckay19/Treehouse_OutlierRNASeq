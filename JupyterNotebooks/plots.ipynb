{
 "cells": [
  {
   "cell_type": "code",
   "execution_count": null,
   "metadata": {
    "collapsed": true
   },
   "outputs": [],
   "source": [
    "# Plots.r\n",
    "# ------------------------------------------------------------------------------\n",
    "# Plots\n",
    "# ------------------------------------------------------------------------------\n",
    "\n",
    "\n",
    "ggplot(dfScatter, aes(n, p95)) + geom_point() + \n",
    "  xlab('Unexpressed Genes') + ylab('95th Percentile of Sample') +\n",
    "  ggtitle('Each Sample\\'s Count of Unexpressed Genes and its 95th Percentile') +\n",
    "  geom_smooth(method = 'lm')\n",
    "\n",
    "ggplot(TPM053_sample, aes(log2(TPM+1))) +geom_histogram()\n",
    "ggplot(countLog2TPMDf, aes(vars, n)) + geom_point() # weird binning was observed\n",
    "# it does spread in a different way\n",
    "\n",
    "ggplot(TPMDf, aes(TPM)) + # with zeros\n",
    "  geom_histogram() # plot of bell curve centered at 3 \n",
    "\n",
    "ggplot(log2(no_zero_TPMDf-1), aes(TPM)) + # no zeros \n",
    "  geom_histogram() + \n",
    "  geom_vline(xintercept = 0) # plot of bell curve centered at 3 \n",
    "\n",
    "# binwidth of 1 for 95th percentile of TPM across all genes\n",
    "ggplot(percentileOfEachTPMDf, aes(p95)) + geom_histogram(binwidth = 1)\n",
    "\n",
    "# binwidth of 0.1 for 75th percentile of TPM across all genes\n",
    "ggplot(percentileOfEachTPMDf, aes(p75)) + geom_histogram(binwidth = 0.1)\n",
    "\n",
    "\n",
    "# make file batch of plots\n",
    "nfp <-\n",
    "\toutlierResults %>% group_by(sampleID) %>% summarize(nfp = quantile(sample, 0.95))\n",
    "\n",
    "fifteenth = quantile(nfp$nfp, 0.15)\n",
    "worst15pctSamples <- nfp %>% filter(nfp < fifteenth)\n",
    "\n",
    "thisSample <- NULL\n",
    "for (thisSample in worst15pctSamples$sampleID) {\n",
    "\tprint(thisSample)\n",
    "\tdf <- outlierResults %>% filter(sampleID == thisSample)\n",
    "\t\n",
    "\tp <- ggplot(df) +\n",
    "\t\tgeom_histogram(aes(sample), binwidth = 0.1) +\n",
    "\t\tggtitle(thisSample)\n",
    "\t\n",
    "\tggsave(\n",
    "\t\tpaste0(thisSample, \".png\"),\n",
    "\t\tplot = p,\n",
    "\t\t\"png\",\n",
    "\t\t\"~/Documents/UCSC/Junior/Treehouse/OutlierRNAseq_Treehouse_Repo/WorstPercentilePlots/\"\n",
    "\t)\n",
    "\t\n",
    "}\n"
   ]
  }
 ],
 "metadata": {
  "kernelspec": {
   "display_name": "R",
   "language": "R",
   "name": "ir"
  },
  "language_info": {
   "codemirror_mode": "r",
   "file_extension": ".r",
   "mimetype": "text/x-r-source",
   "name": "R",
   "pygments_lexer": "r",
   "version": "3.3.2"
  }
 },
 "nbformat": 4,
 "nbformat_minor": 2
}
