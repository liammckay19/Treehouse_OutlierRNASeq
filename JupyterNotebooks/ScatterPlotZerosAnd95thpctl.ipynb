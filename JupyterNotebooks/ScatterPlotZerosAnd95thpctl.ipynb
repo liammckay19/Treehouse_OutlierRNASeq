{
 "cells": [
  {
   "cell_type": "code",
   "execution_count": null,
   "metadata": {
    "collapsed": true
   },
   "outputs": [],
   "source": [
    "# scatterplot \n",
    "\n",
    "options(stringsAsFactors=FALSE) # for compatibile code between us\n",
    "\n",
    "library(tidyverse)\n",
    "library(gridExtra) # easy for putting graphs onto the same page (just use ggarrange(graph1, graph2, ncol = # of display\n",
    "# columns, nrow = #row))\n",
    "\n",
    "\n",
    "setwd(\"~/Documents/UCSC/Junior/Treehouse/Treehouse_outlierRNASeq/comp4.3_tert8.ckcc.outlier_results\")\n",
    "\n",
    "up_outlier_files=list.files(, \"outlier_results_\")\n",
    "\n",
    "outlierResults<-lapply(up_outlier_files, function(x) {\n",
    "  read_tsv(x, col_types=cols()) %>%\n",
    "    add_column(sampleID=gsub(\"outlier_results_\", \"\", x))\n",
    "}) \t%>%\n",
    "  bind_rows()\n",
    "\n",
    "dfZerosOrNotZeros <- outlierResults %>%\n",
    "  select(sampleID, sample) %>%\n",
    "  group_by(sampleID) %>%\n",
    "  count(sample == 0) \n",
    "\n",
    "dfZeros <- dfZerosOrNotZeros %>%\n",
    "  group_by(sampleID) %>%\n",
    "  filter(`sample == 0` == F)\n",
    "\n",
    "p95df <- outlierResults %>% group_by(sampleID) %>% summarize(p95 = quantile(sample, 0.95))\n",
    "\n",
    "dfZeros$p95 = p95df$p95\n",
    "\n",
    "dfScatter <- dfZeros\n",
    "ggplot(dfScatter, aes( p95,n/1000)) + geom_point() + \n",
    "  ylab('Expressed Genes (Thousands)') + xlab('95th Percentile of Sample') +\n",
    "  ggtitle('Each Sample\\'s Count of Expressed Genes and its 95th Percentile') +\n",
    "  geom_smooth(method = 'lm')+\n",
    "  annotate(\n",
    "    \"text\",\n",
    "    x = 3,\n",
    "    y = 35 ,\n",
    "    label = paste0(\n",
    "      \"correlation: \",\n",
    "      round(cor(dfScatter$n,dfScatter$p95),3)\n",
    "    )\n",
    "  )\n",
    "\n",
    "cor(dfScatter$n,dfScatter$p95)\n",
    "# 0.08755389\n",
    "# about 8.8% correlation\n",
    "\n",
    "# REFERENCE\n",
    "x <- seq(1,5)\n",
    "y <- x\n",
    "df = data.frame(x,y)\n",
    "\n",
    "cor(x,y)\n",
    "ggplot(df, aes(x,y)) + geom_point() + ggtitle(\"Correlation of 1\")\n",
    "# correlation of 1 (when x = y)"
   ]
  },
  {
   "cell_type": "code",
   "execution_count": null,
   "metadata": {
    "collapsed": true
   },
   "outputs": [],
   "source": []
  }
 ],
 "metadata": {
  "kernelspec": {
   "display_name": "R",
   "language": "R",
   "name": "ir"
  },
  "language_info": {
   "codemirror_mode": "r",
   "file_extension": ".r",
   "mimetype": "text/x-r-source",
   "name": "R",
   "pygments_lexer": "r",
   "version": "3.3.2"
  }
 },
 "nbformat": 4,
 "nbformat_minor": 2
}
