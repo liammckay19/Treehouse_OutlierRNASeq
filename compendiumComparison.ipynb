{
 "cells": [
  {
   "cell_type": "markdown",
   "metadata": {},
   "source": [
    "# Compendium Comparison\n",
    "- Notebook not fully runnable, \n",
    "- Direction: Need to look into disease and more sequence parter stratification using all of our expression data and it's 95th percentile."
   ]
  },
  {
   "cell_type": "code",
   "execution_count": 1,
   "metadata": {
    "collapsed": false,
    "deletable": true,
    "editable": true
   },
   "outputs": [
    {
     "name": "stderr",
     "output_type": "stream",
     "text": [
      "Loading tidyverse: ggplot2\n",
      "Loading tidyverse: tibble\n",
      "Loading tidyverse: tidyr\n",
      "Loading tidyverse: readr\n",
      "Loading tidyverse: purrr\n",
      "Loading tidyverse: dplyr\n",
      "Conflicts with tidy packages ---------------------------------------------------\n",
      "filter(): dplyr, stats\n",
      "lag():    dplyr, stats\n"
     ]
    }
   ],
   "source": [
    "options(stringsAsFactors=FALSE) # for compatibile code between us\n",
    "library(tidyverse)"
   ]
  },
  {
   "cell_type": "code",
   "execution_count": 2,
   "metadata": {
    "collapsed": false,
    "deletable": true,
    "editable": true
   },
   "outputs": [],
   "source": [
    "targetSamples <- list.files(path = \"/data/archive/downstream/\", pattern = 'TARGET', all.files = FALSE,\n",
    "           full.names = FALSE, recursive = FALSE,\n",
    "           ignore.case = FALSE, include.dirs = FALSE, no.. = FALSE)\n",
    "\n",
    "thrSamples <- list.files(path = \"/data/archive/downstream/\", pattern = 'THR', all.files = FALSE,\n",
    "           full.names = FALSE, recursive = FALSE,\n",
    "           ignore.case = FALSE, include.dirs = FALSE, no.. = FALSE)\n",
    "\n",
    "tcgaSamples <- list.files(path = \"/data/archive/downstream/\", pattern = 'TCGA', all.files = FALSE,\n",
    "           full.names = FALSE, recursive = FALSE,\n",
    "           ignore.case = FALSE, include.dirs = FALSE, no.. = FALSE)"
   ]
  },
  {
   "cell_type": "code",
   "execution_count": 3,
   "metadata": {
    "collapsed": false,
    "deletable": true,
    "editable": true
   },
   "outputs": [],
   "source": [
    "compendiumTPM <- dir(path = \"/data/archive/downstream\", pattern = 'rsem_genes.hugo.results', all.files = TRUE,\n",
    "           full.names = TRUE, recursive = TRUE,\n",
    "           ignore.case = FALSE, include.dirs = TRUE, no.. = TRUE)"
   ]
  },
  {
   "cell_type": "code",
   "execution_count": null,
   "metadata": {
    "collapsed": false,
    "deletable": true,
    "editable": true
   },
   "outputs": [],
   "source": [
    "locationList <- c()\n",
    "tables<-c()\n",
    "a <- tibble()\n",
    "for (sampleName in compendiumTPM){\n",
    "    cur<-read_tsv(location, col_types=cols()) \n",
    "    \n",
    "    cur$sampleID<- rep(sampleName,length(cur$Gene))\n",
    "    cur <- cur %>% select(Gene, sample, sampleID)\n",
    "    a <- rbind(a,cur)\n",
    "}"
   ]
  }
 ],
 "metadata": {
  "kernelspec": {
   "display_name": "R",
   "language": "R",
   "name": "ir"
  },
  "language_info": {
   "codemirror_mode": "r",
   "file_extension": ".r",
   "mimetype": "text/x-r-source",
   "name": "R",
   "pygments_lexer": "r",
   "version": "3.3.2"
  }
 },
 "nbformat": 4,
 "nbformat_minor": 2
}
