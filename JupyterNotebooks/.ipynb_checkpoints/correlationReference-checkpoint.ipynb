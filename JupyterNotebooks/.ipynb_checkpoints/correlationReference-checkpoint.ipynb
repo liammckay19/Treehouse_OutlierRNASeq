{
 "cells": [
  {
   "cell_type": "code",
   "execution_count": null,
   "metadata": {
    "collapsed": true
   },
   "outputs": [],
   "source": [
    "\n",
    "# ==================================================================================================\n",
    "# Correlation of 1\n",
    "# ==================================================================================================\n",
    "\n",
    "# REFERENCE\n",
    "x <- seq(1,5)\n",
    "y <- x\n",
    "df1 = data.frame(x,y,group=rep('df1',5),cor=cor(x,y))\n",
    "\n",
    "# correlation of 1\n",
    "\n",
    "# REFERENCE\n",
    "x <- sample(seq(from = 1, to = 5, by = 0.01), size = 500, replace = TRUE)\n",
    "y <- sample(seq(from = 1, to = 5, by = 0.01), size = 500, replace = TRUE)*x\n",
    "df2 = data.frame(x,y,group=rep('df2',500),cor=cor(x,y))\n",
    "\n",
    "x <- sample(seq(from = 1, to = 5, by = 0.1), size = 500, replace = TRUE)\n",
    "y <- sample(seq(from = 4, to = 5, by = 0.1), size = 500, replace = TRUE)*x\n",
    "df2b = data.frame(x,y,group=rep('df2b',500),cor=cor(x,y))\n",
    "\n",
    "x <- sample(seq(from = 4, to = 5, by = 0.1), size = 500, replace = TRUE)*y\n",
    "y <- sample(seq(from = 1, to = 5, by = 0.1), size = 500, replace = TRUE)\n",
    "df2c = data.frame(x,y,group=rep('df2c',500),cor=cor(x,y))\n",
    "\n",
    "x <- sample(seq(from = 1, to = 5, by = 0.1), size = 500, replace = TRUE)*y\n",
    "y <- sample(seq(from = 4, to = 5, by = 0.1), size = 500, replace = TRUE)\n",
    "df2d = data.frame(x,y,group=rep('df2d',500),cor=cor(x,y))\n",
    "\n",
    "# correlation of random seq\n",
    "\n",
    "# REFERENCE\n",
    "x <- seq(1,5)\n",
    "y <- seq(5,1)\n",
    "df3 = data.frame(x,y,group=rep('df3',5),cor=cor(x,y))\n",
    "\n",
    "# correlation of -1\n",
    "\n",
    "# REFERENCE\n",
    "x <- c(3,3,3,3,3)\n",
    "y <- seq(5,1)\n",
    "df4 = data.frame(x,y,group=rep('df4',5),cor=cor(x,y))\n",
    "\n",
    "# correlation of NA\n",
    "\n",
    "# REFERENCE\n",
    "x <- seq(5,1)\n",
    "y <-  c(3,3,3,3,3)\n",
    "df5 = data.frame(x,y,group=rep('df5',5),cor=cor(x,y))\n",
    "\n",
    "# correlation of NA\n",
    "\n",
    "\n",
    "df_big<-bind_rows(df1,df2,df3,df4,df5,df2b,df2c,df2d)\n",
    "ggplot(df_big, aes(x,y)) + geom_point() + facet_wrap(group~cor,labeller = label_both, scales=\"free\")\n"
   ]
  }
 ],
 "metadata": {
  "kernelspec": {
   "display_name": "R",
   "language": "R",
   "name": "ir"
  },
  "language_info": {
   "codemirror_mode": "r",
   "file_extension": ".r",
   "mimetype": "text/x-r-source",
   "name": "R",
   "pygments_lexer": "r",
   "version": "3.3.2"
  }
 },
 "nbformat": 4,
 "nbformat_minor": 2
}
