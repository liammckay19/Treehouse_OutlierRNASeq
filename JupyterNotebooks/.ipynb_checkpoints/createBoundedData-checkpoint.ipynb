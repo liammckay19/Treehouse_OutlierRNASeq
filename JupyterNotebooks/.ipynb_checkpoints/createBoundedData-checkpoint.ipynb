{
 "cells": [
  {
   "cell_type": "code",
   "execution_count": null,
   "metadata": {
    "collapsed": true
   },
   "outputs": [],
   "source": [
    "# createBoundedData.R\n",
    "# input: column_name1, column_name2, nameOfSimilarColumn, group_label1, group_label2\n",
    "\n",
    "# example bothPercentilesOne <- createBoundedData(percentileOfEachSampleDf$p95, \n",
    "                                        # percentileOfEachSampleDf$p75, \n",
    "                                        # \"percentile\", '95th', '75th')\n",
    "                                        \n",
    "# output: dataframe with two columns with labels for each comparison\n",
    "# use ggplot(dataframe, aes(values, fill = nameOfSimilarColumn))\n",
    "\n",
    "## created my own function to concatenate two columns and compare them in ggplot with a \n",
    "# comparison needed \n",
    "# (basically generalizes what is written from the tutorial)\n",
    "createBoundedData <- function(col1, col2, nameOfComparison, name1, name2) {\n",
    "  ## very useful tutorial for plotting two histograms together\n",
    "  # https://stackoverflow.com/questions/3541713/how-to-plot-two-histograms-together-in-r/3557042\n",
    "\n",
    "  # example:\n",
    "  # p95df <- data.frame(percentileOfEachSampleDf$p95)\n",
    "  # p95df <- rename(p95df, 'value' = percentileOfEachSampleDf.p95)\n",
    "  # \n",
    "  # p75df <- data.frame(percentileOfEachSampleDf$p75) \n",
    "  # p75df <- rename(p75df, 'value' = percentileOfEachSampleDf.p75)\n",
    "  # \n",
    "  # p95df$percentile <- '95th'\n",
    "  # p75df$percentile <- '75th'\n",
    "  # \n",
    "  # bothPercentiles <- rbind(p95df, p75df)\n",
    "  \n",
    "  col1df <- data.frame(col1)\n",
    "  col1df <- rename(col1df, 'value' = col1)\n",
    "  \n",
    "  \n",
    "  col2df <- data.frame(col2)\n",
    "  col2df <- rename(col2df, 'value' = col2)\n",
    "  \n",
    "  col1df$nameOfComparison <- name1\n",
    "  col2df$nameOfComparison <- name2\n",
    "  \n",
    "  bothBoundedData <- rbind(col1df, col2df)\n",
    "  colnames (bothBoundedData) <- c(\"values\", nameOfComparison)\n",
    "  return(bothBoundedData)\n",
    "}"
   ]
  }
 ],
 "metadata": {
  "kernelspec": {
   "display_name": "R",
   "language": "R",
   "name": "ir"
  },
  "language_info": {
   "codemirror_mode": "r",
   "file_extension": ".r",
   "mimetype": "text/x-r-source",
   "name": "R",
   "pygments_lexer": "r",
   "version": "3.3.2"
  }
 },
 "nbformat": 4,
 "nbformat_minor": 2
}
